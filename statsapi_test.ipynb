{
 "cells": [
  {
   "cell_type": "code",
   "execution_count": 2,
   "id": "d8413e75-7abc-4d65-9d19-811c8a1e12e9",
   "metadata": {},
   "outputs": [],
   "source": [
    "# import dependencies\n",
    "import numpy as np\n",
    "import pandas as pd\n",
    "import statsapi\n",
    "import streamlit as st"
   ]
  },
  {
   "cell_type": "code",
   "execution_count": 13,
   "metadata": {},
   "outputs": [],
   "source": [
    "# define team abbreviations for lookup reference\n",
    "teams_abb = ['LAD', 'LAA', 'SDP', 'SEA', 'SFG', 'TBR', \n",
    "             'DET', 'KCR', 'CLE', 'MIL', 'NYY', 'HOU', \n",
    "             'ARI', 'STL', 'BAL', 'MIA', 'MIN', 'PIT', \n",
    "             'ATL', 'CIN', 'TEX', 'TOR', 'NYM', 'PHI',\n",
    "             'BOS', 'OAK', 'CHC', 'COL', 'CHW', 'WSN']\n",
    "\n",
    "# define dictionary which maps the abbreviation to the team name\\\n",
    "abb_to_name = {'LAD': 'Los Angeles Dodgers', 'LAA': 'Los Angeles Angels', 'SDP': 'San Diego Padres', 'SEA': 'Seattle Mariners', 'TBR': 'Tampa Bay Rays',\n",
    "               'DET': 'Detroit Tigers', 'KCR': 'Kansas City Royals', 'CLE': 'Cleveland Guardians', 'MIL': 'Milwaukee Brewers', 'NYY': 'New York Yankees', 'HOU': 'Houston Astros',\n",
    "               'ARI': 'Arizona Diamondbacks', 'STL': 'St Louis Cardinals', 'BAL': 'Baltimore Orioles', 'MIA': 'Miami Marlins', 'MIN': 'Minesotta Twins', 'PIT': 'Pittsburgh Pirates',\n",
    "               'ATL': 'Atlanta Braves', 'CIN': 'Cincinnati Reds', 'TEX': 'Texas Rangers', 'TOR': 'Toronto Blue Jays', 'NYM': 'New York Mets', 'PHI': 'Philadelphia Phillies',\n",
    "               'BOS': 'Boston Red Sox', 'OAK': 'Oakland Athletics', 'CHC': 'Chicago Cubs', 'COL': 'Colorado Rockies', 'CHW': 'Chicago White Sox', 'WSN': 'Washington Nationals'}"
   ]
  },
  {
   "cell_type": "code",
   "execution_count": 81,
   "metadata": {},
   "outputs": [],
   "source": [
    "# statsapi.lookup_team returns a list of information relating to the team \n",
    "team = statsapi.lookup_team(teams_abb[0])\n",
    "teamid = team[0]['id']\n",
    "\n",
    "print(statsapi.roster(teamid))"
   ]
  },
  {
   "cell_type": "code",
   "execution_count": 9,
   "metadata": {},
   "outputs": [],
   "source": [
    "player = statsapi.lookup_player('aaron nola')"
   ]
  },
  {
   "cell_type": "code",
   "execution_count": 23,
   "metadata": {},
   "outputs": [],
   "source": [
    "nola_stat = statsapi.player_stats(player[0]['id'])"
   ]
  },
  {
   "cell_type": "code",
   "execution_count": 29,
   "metadata": {},
   "outputs": [],
   "source": [
    "test = nola_stat.split('\\n')"
   ]
  },
  {
   "cell_type": "code",
   "execution_count": 37,
   "metadata": {},
   "outputs": [],
   "source": [
    "roster = statsapi.roster(teamid)"
   ]
  },
  {
   "cell_type": "code",
   "execution_count": 70,
   "metadata": {},
   "outputs": [],
   "source": [
    "roster_df = pd.DataFrame(roster.split('\\n')).rename(columns = {0: 'Number'})"
   ]
  },
  {
   "cell_type": "code",
   "execution_count": 71,
   "metadata": {},
   "outputs": [],
   "source": [
    "roster_df['Number'] = roster_df['Number'].str.replace(' +', ' ', regex = True).str.replace(' ', '-', n = 2)\n",
    "# roster_df[['Number', 'Position', 'Name']] = roster_df['Number'].str.split('-')"
   ]
  },
  {
   "cell_type": "code",
   "execution_count": 74,
   "metadata": {},
   "outputs": [],
   "source": [
    "roster_df[['Number', 'Position', 'Name']] = roster_df['Number'].str.split('-', expand = True)"
   ]
  }
 ],
 "metadata": {
  "kernelspec": {
   "display_name": "Python 3 (ipykernel)",
   "language": "python",
   "name": "python3"
  },
  "language_info": {
   "codemirror_mode": {
    "name": "ipython",
    "version": 3
   },
   "file_extension": ".py",
   "mimetype": "text/x-python",
   "name": "python",
   "nbconvert_exporter": "python",
   "pygments_lexer": "ipython3",
   "version": "3.12.0"
  }
 },
 "nbformat": 4,
 "nbformat_minor": 5
}
