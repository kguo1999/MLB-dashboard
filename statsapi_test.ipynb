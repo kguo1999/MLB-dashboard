{
 "cells": [
  {
   "cell_type": "code",
   "execution_count": 2,
   "id": "d8413e75-7abc-4d65-9d19-811c8a1e12e9",
   "metadata": {},
   "outputs": [],
   "source": [
    "# import dependencies\n",
    "import numpy as np\n",
    "import pandas as pd\n",
    "import statsapi\n",
    "import streamlit as st"
   ]
  },
  {
   "cell_type": "code",
   "execution_count": 13,
   "metadata": {},
   "outputs": [],
   "source": [
    "# define team abbreviations for lookup reference\n",
    "teams_abb = ['LAD', 'LAA', 'SDP', 'SEA', 'SFG', 'TBR', \n",
    "             'DET', 'KCR', 'CLE', 'MIL', 'NYY', 'HOU', \n",
    "             'ARI', 'STL', 'BAL', 'MIA', 'MIN', 'PIT', \n",
    "             'ATL', 'CIN', 'TEX', 'TOR', 'NYM', 'PHI',\n",
    "             'BOS', 'OAK', 'CHC', 'COL', 'CHW', 'WSN']\n",
    "\n",
    "# define dictionary which maps the abbreviation to the team name\\\n",
    "abb_to_name = {'LAD': 'Los Angeles Dodgers', 'LAA': 'Los Angeles Angels', 'SDP': 'San Diego Padres', 'SEA': 'Seattle Mariners', 'TBR': 'Tampa Bay Rays',\n",
    "               'DET': 'Detroit Tigers', 'KCR': 'Kansas City Royals', 'CLE': 'Cleveland Guardians', 'MIL': 'Milwaukee Brewers', 'NYY': 'New York Yankees', 'HOU': 'Houston Astros',\n",
    "               'ARI': 'Arizona Diamondbacks', 'STL': 'St Louis Cardinals', 'BAL': 'Baltimore Orioles', 'MIA': 'Miami Marlins', 'MIN': 'Minesotta Twins', 'PIT': 'Pittsburgh Pirates',\n",
    "               'ATL': 'Atlanta Braves', 'CIN': 'Cincinnati Reds', 'TEX': 'Texas Rangers', 'TOR': 'Toronto Blue Jays', 'NYM': 'New York Mets', 'PHI': 'Philadelphia Phillies',\n",
    "               'BOS': 'Boston Red Sox', 'OAK': 'Oakland Athletics', 'CHC': 'Chicago Cubs', 'COL': 'Colorado Rockies', 'CHW': 'Chicago White Sox', 'WSN': 'Washington Nationals'}"
   ]
  },
  {
   "cell_type": "code",
   "execution_count": 8,
   "metadata": {},
   "outputs": [
    {
     "name": "stdout",
     "output_type": "stream",
     "text": [
      "#27  P   Aaron Nola\n",
      "#28  1B  Alec Bohm\n",
      "#64  P   Andrew Bellatti\n",
      "#16  CF  Brandon Marsh\n",
      "#3   DH  Bryce Harper\n",
      "#5   2B  Bryson Stott\n",
      "#75  P   Connor Brogdon\n",
      "#19  LF  Cristian Pache\n",
      "#61  P   Cristopher Sanchez\n",
      "#24  1B  Darick Hall\n",
      "#54  P   Dylan Covey\n",
      "#33  3B  Edmundo Sosa\n",
      "#21  C   Garrett Stubbs\n",
      "#30  P   Gregory Soto\n",
      "#10  C   J.T. Realmuto\n",
      "#44  LF  Jake Cave\n",
      "#68  P   Jeff Hoffman\n",
      "#18  CF  Johan Rojas\n",
      "#46  P   Jose Alvarado\n",
      "#23  1B  Kody Clemens\n",
      "#12  LF  Kyle Schwarber\n",
      "#56  P   Luis F. Ortiz\n",
      "#25  P   Matt Strahm\n",
      "#79  P   McKinley Moore\n",
      "#    P   Michael Mercado\n",
      "#8   RF  Nick Castellanos\n",
      "#57  P   Nick Nelson\n",
      "#50  P   Orion Kerkering\n",
      "#13  C   Rafael Marchan\n",
      "#55  P   Ranger Suarez\n",
      "#29  SS  Rodolfo Castro\n",
      "#58  P   Seranthony Dominguez\n",
      "#40  CF  Simon Muzziotti\n",
      "#99  P   Taijuan Walker\n",
      "#7   SS  Trea Turner\n",
      "#37  3B  Weston Wilson\n",
      "#43  P   Yunior Marte\n",
      "#45  P   Zack Wheeler\n",
      "\n"
     ]
    }
   ],
   "source": [
    "# statsapi.lookup_team returns a list of information relating to the team \n",
    "team = statsapi.lookup_team(teams_abb[0])\n",
    "teamid = team[0]['id']\n",
    "\n",
    "print(statsapi.roster(teamid))"
   ]
  },
  {
   "cell_type": "code",
   "execution_count": 9,
   "metadata": {},
   "outputs": [],
   "source": [
    "player = statsapi.lookup_player('aaron nola')"
   ]
  },
  {
   "cell_type": "code",
   "execution_count": 12,
   "metadata": {},
   "outputs": [
    {
     "name": "stdout",
     "output_type": "stream",
     "text": [
      "Aaron \"Nols\" Nola, P (2015-)\n",
      "\n",
      "Season Fielding (P)\n",
      "gamesPlayed: 32\n",
      "gamesStarted: 32\n",
      "assists: 16\n",
      "putOuts: 11\n",
      "errors: 1\n",
      "chances: 28\n",
      "fielding: .964\n",
      "rangeFactorPerGame: 0.84\n",
      "rangeFactorPer9Inn: 1.26\n",
      "innings: 193.2\n",
      "games: 32\n",
      "doublePlays: 2\n",
      "triplePlays: 0\n",
      "throwingErrors: 1\n",
      "\n",
      "Season Pitching\n",
      "gamesPlayed: 32\n",
      "gamesStarted: 32\n",
      "groundOuts: 184\n",
      "airOuts: 183\n",
      "runs: 105\n",
      "doubles: 35\n",
      "triples: 3\n",
      "homeRuns: 32\n",
      "strikeOuts: 202\n",
      "baseOnBalls: 45\n",
      "intentionalWalks: 0\n",
      "hits: 178\n",
      "hitByPitch: 1\n",
      "avg: .240\n",
      "atBats: 741\n",
      "obp: .283\n",
      "slg: .425\n",
      "ops: .708\n",
      "caughtStealing: 5\n",
      "stolenBases: 21\n",
      "stolenBasePercentage: .808\n",
      "groundIntoDoublePlay: 15\n",
      "numberOfPitches: 3087\n",
      "era: 4.46\n",
      "inningsPitched: 193.2\n",
      "wins: 12\n",
      "losses: 9\n",
      "saves: 0\n",
      "saveOpportunities: 0\n",
      "holds: 0\n",
      "blownSaves: 0\n",
      "earnedRuns: 96\n",
      "whip: 1.15\n",
      "battersFaced: 793\n",
      "outs: 581\n",
      "gamesPitched: 32\n",
      "completeGames: 0\n",
      "shutouts: 0\n",
      "strikes: 2075\n",
      "strikePercentage: .670\n",
      "hitBatsmen: 1\n",
      "balks: 0\n",
      "wildPitches: 2\n",
      "pickoffs: 2\n",
      "totalBases: 315\n",
      "groundOutsToAirouts: 1.01\n",
      "winPercentage: .571\n",
      "pitchesPerInning: 15.94\n",
      "gamesFinished: 0\n",
      "strikeoutWalkRatio: 4.49\n",
      "strikeoutsPer9Inn: 9.39\n",
      "walksPer9Inn: 2.09\n",
      "hitsPer9Inn: 8.27\n",
      "runsScoredPer9: 4.88\n",
      "homeRunsPer9: 1.49\n",
      "inheritedRunners: 0\n",
      "inheritedRunnersScored: 0\n",
      "catchersInterference: 0\n",
      "sacBunts: 2\n",
      "sacFlies: 4\n",
      "\n",
      "\n"
     ]
    }
   ],
   "source": [
    "print(statsapi.player_stats(player[0]['id']))"
   ]
  }
 ],
 "metadata": {
  "kernelspec": {
   "display_name": "Python 3 (ipykernel)",
   "language": "python",
   "name": "python3"
  },
  "language_info": {
   "codemirror_mode": {
    "name": "ipython",
    "version": 3
   },
   "file_extension": ".py",
   "mimetype": "text/x-python",
   "name": "python",
   "nbconvert_exporter": "python",
   "pygments_lexer": "ipython3",
   "version": "3.12.0"
  }
 },
 "nbformat": 4,
 "nbformat_minor": 5
}
