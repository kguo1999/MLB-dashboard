{
 "cells": [
  {
   "cell_type": "code",
   "execution_count": 2,
   "id": "d8413e75-7abc-4d65-9d19-811c8a1e12e9",
   "metadata": {},
   "outputs": [],
   "source": [
    "# import dependencies\n",
    "import numpy as np\n",
    "import pandas as pd\n",
    "import statsapi\n",
    "import streamlit as st"
   ]
  },
  {
   "cell_type": "code",
   "execution_count": 92,
   "metadata": {},
   "outputs": [],
   "source": [
    "# define team abbreviations for lookup reference\n",
    "teams_abb = ['LAD', 'ANA', 'SDN', 'SEA', 'SFN', 'TBA', \n",
    "             'DET', 'KCA', 'CLE', 'MIL', 'NYY', 'HOU', \n",
    "             'ARIZONA', 'STL', 'BAL', 'MIA', 'MIN', 'PIT', \n",
    "             'ATL', 'CIN', 'TEX', 'TOR', 'NYM', 'PHI',\n",
    "             'BOS', 'OAK', 'CHC', 'COL', 'CHW', 'WSN']\n",
    "\n",
    "# define dictionary which maps the abbreviation to the team name\\\n",
    "name_to_abb = {'Los Angeles Dodgers': 'LAD', 'Los Angeles Angels': 'LAA', 'San Diego Padres': 'SDP', 'Seattle Mariners': 'SEA', 'Tampa Bay Rays': 'TBR',\n",
    "               'Detroit Tigers': 'DET', 'Kansas City Royals': 'KCR', 'Cleveland Guardians': 'CLE', 'Milwaukee Brewers': 'MIL', 'New York Yankees': 'NYY', 'Houston Astros': 'HOU',\n",
    "               'Arizona Diamondbacks': 'ARIZONA', 'St Louis Cardinals': 'STL', 'Baltimore Orioles': 'BAL', 'Miami Marlins': 'MIA', 'Minesotta Twins': 'MIN', 'Pittsburgh Pirates': 'PIT',\n",
    "               'Atlanta Braves': 'ATL', 'Cincinnati Reds': 'CIN', 'Texas Rangers': 'TEX', 'Toronto Blue Jays': 'TOR', 'New York Mets': 'NYM', 'Philadelphia Phillies': 'PHI',\n",
    "               'Boston Red Sox': 'BOS', 'Oakland Athletics': 'OAK', 'Chicago Cubs': 'CHC', 'Colorado Rockies': 'COL', 'Chicago White Sox': 'CHW', 'Washington Nationals': 'WSN'}"
   ]
  },
  {
   "cell_type": "code",
   "execution_count": 115,
   "metadata": {},
   "outputs": [
    {
     "data": {
      "text/plain": [
       "[{'id': 109,\n",
       "  'name': 'Arizona Diamondbacks',\n",
       "  'teamCode': 'ari',\n",
       "  'fileCode': 'ari',\n",
       "  'teamName': 'D-backs',\n",
       "  'locationName': 'Phoenix',\n",
       "  'shortName': 'Arizona'}]"
      ]
     },
     "execution_count": 115,
     "metadata": {},
     "output_type": "execute_result"
    }
   ],
   "source": [
    "statsapi.lookup_team('ARIZONA')"
   ]
  },
  {
   "cell_type": "code",
   "execution_count": 95,
   "metadata": {},
   "outputs": [
    {
     "ename": "IndexError",
     "evalue": "list index out of range",
     "output_type": "error",
     "traceback": [
      "\u001b[1;31m---------------------------------------------------------------------------\u001b[0m",
      "\u001b[1;31mIndexError\u001b[0m                                Traceback (most recent call last)",
      "\u001b[1;32mc:\\Users\\kguo1\\OneDrive\\Desktop\\Personal Project\\MLB-dashboard\\statsapi_test.ipynb Cell 3\u001b[0m line \u001b[0;36m2\n\u001b[0;32m      <a href='vscode-notebook-cell:/c%3A/Users/kguo1/OneDrive/Desktop/Personal%20Project/MLB-dashboard/statsapi_test.ipynb#W4sZmlsZQ%3D%3D?line=0'>1</a>\u001b[0m team_selection \u001b[39m=\u001b[39m \u001b[39m'\u001b[39m\u001b[39mLos Angeles Angels\u001b[39m\u001b[39m'\u001b[39m\n\u001b[1;32m----> <a href='vscode-notebook-cell:/c%3A/Users/kguo1/OneDrive/Desktop/Personal%20Project/MLB-dashboard/statsapi_test.ipynb#W4sZmlsZQ%3D%3D?line=1'>2</a>\u001b[0m team \u001b[39m=\u001b[39m statsapi\u001b[39m.\u001b[39;49mlookup_team(name_to_abb[team_selection])[\u001b[39m0\u001b[39;49m]\n\u001b[0;32m      <a href='vscode-notebook-cell:/c%3A/Users/kguo1/OneDrive/Desktop/Personal%20Project/MLB-dashboard/statsapi_test.ipynb#W4sZmlsZQ%3D%3D?line=2'>3</a>\u001b[0m roster \u001b[39m=\u001b[39m statsapi\u001b[39m.\u001b[39mroster(team[\u001b[39m'\u001b[39m\u001b[39mid\u001b[39m\u001b[39m'\u001b[39m])\n",
      "\u001b[1;31mIndexError\u001b[0m: list index out of range"
     ]
    }
   ],
   "source": [
    "team_selection = 'Los Angeles Angels'\n",
    "team = statsapi.lookup_team(name_to_abb[team_selection])[0]\n",
    "roster = statsapi.roster(team['id'])"
   ]
  },
  {
   "cell_type": "code",
   "execution_count": 104,
   "metadata": {},
   "outputs": [
    {
     "data": {
      "text/plain": [
       "[{'id': 136,\n",
       "  'name': 'Seattle Mariners',\n",
       "  'teamCode': 'sea',\n",
       "  'fileCode': 'sea',\n",
       "  'teamName': 'Mariners',\n",
       "  'locationName': 'Seattle',\n",
       "  'shortName': 'Seattle'}]"
      ]
     },
     "execution_count": 104,
     "metadata": {},
     "output_type": "execute_result"
    }
   ],
   "source": []
  },
  {
   "cell_type": "code",
   "execution_count": 85,
   "metadata": {},
   "outputs": [
    {
     "data": {
      "text/plain": [
       "'LAD'"
      ]
     },
     "execution_count": 85,
     "metadata": {},
     "output_type": "execute_result"
    }
   ],
   "source": [
    "name_to_abb['Los Angeles Dodgers']"
   ]
  },
  {
   "cell_type": "code",
   "execution_count": 9,
   "metadata": {},
   "outputs": [],
   "source": [
    "player = statsapi.lookup_player('aaron nola')"
   ]
  },
  {
   "cell_type": "code",
   "execution_count": 23,
   "metadata": {},
   "outputs": [],
   "source": [
    "nola_stat = statsapi.player_stats(player[0]['id'])"
   ]
  },
  {
   "cell_type": "code",
   "execution_count": 29,
   "metadata": {},
   "outputs": [],
   "source": [
    "test = nola_stat.split('\\n')"
   ]
  },
  {
   "cell_type": "code",
   "execution_count": 37,
   "metadata": {},
   "outputs": [],
   "source": [
    "roster = statsapi.roster(teamid)"
   ]
  },
  {
   "cell_type": "code",
   "execution_count": 70,
   "metadata": {},
   "outputs": [],
   "source": [
    "roster_df = pd.DataFrame(roster.split('\\n')).rename(columns = {0: 'Number'})"
   ]
  },
  {
   "cell_type": "code",
   "execution_count": 71,
   "metadata": {},
   "outputs": [],
   "source": [
    "roster_df['Number'] = roster_df['Number'].str.replace(' +', ' ', regex = True).str.replace(' ', '-', n = 2)\n",
    "# roster_df[['Number', 'Position', 'Name']] = roster_df['Number'].str.split('-')"
   ]
  },
  {
   "cell_type": "code",
   "execution_count": 74,
   "metadata": {},
   "outputs": [],
   "source": [
    "roster_df[['Number', 'Position', 'Name']] = roster_df['Number'].str.split('-', expand = True)"
   ]
  }
 ],
 "metadata": {
  "kernelspec": {
   "display_name": "Python 3 (ipykernel)",
   "language": "python",
   "name": "python3"
  },
  "language_info": {
   "codemirror_mode": {
    "name": "ipython",
    "version": 3
   },
   "file_extension": ".py",
   "mimetype": "text/x-python",
   "name": "python",
   "nbconvert_exporter": "python",
   "pygments_lexer": "ipython3",
   "version": "3.12.0"
  }
 },
 "nbformat": 4,
 "nbformat_minor": 5
}
